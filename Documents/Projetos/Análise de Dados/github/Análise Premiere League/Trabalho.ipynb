{
 "cells": [
  {
   "cell_type": "markdown",
   "metadata": {},
   "source": [
    "## XMAC02 – Trabalho 01\n",
    "### Nome: Ravel José de Almeida - 2021002495"
   ]
  },
  {
   "cell_type": "markdown",
   "metadata": {},
   "source": [
    "**Introdução ao Trabalho sobre Estatísticas de Finalização na Premier League**\n",
    "\n",
    "A Premier League é uma das ligas de futebol mais renomadas e competitivas do mundo, conhecida por seu nível técnico elevado, intensidade de jogo e apaixonante atmosfera nos estádios. Com clubes históricos, jogadores de classe mundial e uma base de fãs global, a Premier League atrai milhões de espectadores a cada temporada, tornando-se um palco ideal para análises estatísticas detalhadas.\n",
    "\n",
    "**Etapas do Trabalho:**\n",
    "\n",
    "**Etapa 1 - Definição:**\n",
    "Nesta etapa, definimos o tema do trabalho como estatísticas de finalização na Premier League. Optamos por trabalhar com uma amostra de jogadores selecionados da liga, em vez de analisar a população inteira. As variáveis foram escolhidas para capturar aspectos qualitativos, como posição e nacionalidade dos jogadores, e aspectos quantitativos, como gols marcados, chutes no alvo e eficiência de finalização.\n",
    "\n",
    "**Etapa 2 - Coleta dos Dados:**\n",
    "Para garantir a confiabilidade dos dados, selecionamos uma fonte confiável que fornece estatísticas precisas e atualizadas da Premier League. Os dados foram coletados de forma sistemática e meticulosa, garantindo a precisão e integridade das informações. [Insira o link para o dataset baixado no Kaggle aqui]\n",
    "\n",
    "**Etapa 3 - Organização dos Dados:**\n",
    "Os dados foram organizados em uma estrutura tabular, permitindo uma fácil compreensão e análise. Além disso, realizamos a limpeza dos dados para remover quaisquer inconsistências ou valores ausentes, garantindo a qualidade dos dados analisados.\n",
    "\n",
    "**Etapa 4 - Apresentação dos Dados:**\n",
    "Escolhemos gráficos adequados, como histogramas, gráficos de barras e gráficos de dispersão, para apresentar os dados de forma clara e informativa. Esses gráficos nos ajudarão a visualizar e interpretar as tendências e padrões nas estatísticas de finalização dos jogadores.\n",
    "\n",
    "**Etapa 5 - Análise dos Resultados:**\n",
    "Utilizamos medidas de posição, como média e mediana, e medidas de dispersão, como desvio padrão e intervalo interquartil, para analisar os resultados e tirar conclusões objetivas sobre o desempenho dos jogadores na finalização. Além disso, elaboramos uma conclusão descritiva e objetiva com base nos resultados obtidos.\n",
    "\n",
    "Por meio deste trabalho, buscamos oferecer uma análise abrangente das estatísticas de finalização dos jogadores da Premier League, fornecendo insights valiosos sobre o desempenho individual e coletivo na liga mais emocionante do mundo do futebol.\n"
   ]
  }
 ],
 "metadata": {
  "language_info": {
   "name": "python"
  }
 },
 "nbformat": 4,
 "nbformat_minor": 2
}
